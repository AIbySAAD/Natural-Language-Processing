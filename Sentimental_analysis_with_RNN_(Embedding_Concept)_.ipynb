{
  "nbformat": 4,
  "nbformat_minor": 0,
  "metadata": {
    "colab": {
      "provenance": []
    },
    "kernelspec": {
      "name": "python3",
      "display_name": "Python 3"
    },
    "language_info": {
      "name": "python"
    }
  },
  "cells": [
    {
      "cell_type": "code",
      "source": [
        "from keras.datasets import imdb\n",
        "from keras.preprocessing.text import Tokenizer\n",
        "from keras.utils import pad_sequences\n",
        "from keras import Sequential\n",
        "from keras.layers import Dense,SimpleRNN,Embedding\n",
        "(x_train,y_train),(x_test,y_test)=imdb.load_data(num_words=10000)\n",
        "x_train=pad_sequences(x_train,padding='post',maxlen=50)\n",
        "x_test=pad_sequences(x_test,padding='post',maxlen=50)"
      ],
      "metadata": {
        "id": "FZA1pq__Psc2"
      },
      "execution_count": 60,
      "outputs": []
    },
    {
      "cell_type": "code",
      "source": [
        "x_train.shape"
      ],
      "metadata": {
        "colab": {
          "base_uri": "https://localhost:8080/"
        },
        "id": "A-iyZLxtRDk3",
        "outputId": "1a0b5fe5-0a35-47ed-f305-57367731c9b7"
      },
      "execution_count": 61,
      "outputs": [
        {
          "output_type": "execute_result",
          "data": {
            "text/plain": [
              "(25000, 50)"
            ]
          },
          "metadata": {},
          "execution_count": 61
        }
      ]
    },
    {
      "cell_type": "code",
      "source": [
        "model=Sequential()\n",
        "model.add(Embedding(10000,2,input_length=50))\n",
        "model.add(SimpleRNN(32,return_sequences=False))\n",
        "model.add(Dense(1,activation='sigmoid'))\n",
        "model.summary()"
      ],
      "metadata": {
        "colab": {
          "base_uri": "https://localhost:8080/"
        },
        "id": "uZM0qxfGRTKF",
        "outputId": "4fa66a7b-efed-456a-ddee-5f53e15fc4c8"
      },
      "execution_count": 62,
      "outputs": [
        {
          "output_type": "stream",
          "name": "stdout",
          "text": [
            "Model: \"sequential_12\"\n",
            "_________________________________________________________________\n",
            " Layer (type)                Output Shape              Param #   \n",
            "=================================================================\n",
            " embedding_9 (Embedding)     (None, 50, 2)             20000     \n",
            "                                                                 \n",
            " simple_rnn_7 (SimpleRNN)    (None, 32)                1120      \n",
            "                                                                 \n",
            " dense_7 (Dense)             (None, 1)                 33        \n",
            "                                                                 \n",
            "=================================================================\n",
            "Total params: 21153 (82.63 KB)\n",
            "Trainable params: 21153 (82.63 KB)\n",
            "Non-trainable params: 0 (0.00 Byte)\n",
            "_________________________________________________________________\n"
          ]
        }
      ]
    },
    {
      "cell_type": "code",
      "source": [
        "model.compile(optimizer='adam',loss='binary_crossentropy',metrics=['acc'])\n",
        "model.fit(x_train,y_train,epochs=5,validation_data=(x_test,y_test))"
      ],
      "metadata": {
        "colab": {
          "base_uri": "https://localhost:8080/"
        },
        "id": "06xv6pm8R1Wp",
        "outputId": "ab196194-74e1-4e0a-b087-20ae9928992c"
      },
      "execution_count": 63,
      "outputs": [
        {
          "output_type": "stream",
          "name": "stdout",
          "text": [
            "Epoch 1/5\n",
            "782/782 [==============================] - 14s 17ms/step - loss: 0.6002 - acc: 0.6504 - val_loss: 0.5169 - val_acc: 0.7450\n",
            "Epoch 2/5\n",
            "782/782 [==============================] - 15s 20ms/step - loss: 0.3898 - acc: 0.8280 - val_loss: 0.4351 - val_acc: 0.7991\n",
            "Epoch 3/5\n",
            "782/782 [==============================] - 15s 19ms/step - loss: 0.3246 - acc: 0.8650 - val_loss: 0.4324 - val_acc: 0.8079\n",
            "Epoch 4/5\n",
            "782/782 [==============================] - 14s 18ms/step - loss: 0.2912 - acc: 0.8847 - val_loss: 0.4482 - val_acc: 0.8038\n",
            "Epoch 5/5\n",
            "782/782 [==============================] - 14s 18ms/step - loss: 0.2580 - acc: 0.8997 - val_loss: 0.4770 - val_acc: 0.8011\n"
          ]
        },
        {
          "output_type": "execute_result",
          "data": {
            "text/plain": [
              "<keras.src.callbacks.History at 0x7ef78c542050>"
            ]
          },
          "metadata": {},
          "execution_count": 63
        }
      ]
    }
  ]
}