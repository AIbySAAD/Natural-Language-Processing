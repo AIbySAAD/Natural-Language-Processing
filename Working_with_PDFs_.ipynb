{
  "nbformat": 4,
  "nbformat_minor": 0,
  "metadata": {
    "colab": {
      "provenance": []
    },
    "kernelspec": {
      "name": "python3",
      "display_name": "Python 3"
    },
    "language_info": {
      "name": "python"
    }
  },
  "cells": [
    {
      "cell_type": "code",
      "source": [
        "!pip install PyPDF2"
      ],
      "metadata": {
        "colab": {
          "base_uri": "https://localhost:8080/"
        },
        "id": "-jgOMA206nSV",
        "outputId": "0f57e62e-08d5-4210-9113-ea18d6e6861e"
      },
      "execution_count": 2,
      "outputs": [
        {
          "output_type": "stream",
          "name": "stdout",
          "text": [
            "Collecting PyPDF2\n",
            "  Downloading pypdf2-3.0.1-py3-none-any.whl (232 kB)\n",
            "\u001b[2K     \u001b[90m━━━━━━━━━━━━━━━━━━━━━━━━━━━━━━━━━━━━━━━━\u001b[0m \u001b[32m232.6/232.6 kB\u001b[0m \u001b[31m4.1 MB/s\u001b[0m eta \u001b[36m0:00:00\u001b[0m\n",
            "\u001b[?25hInstalling collected packages: PyPDF2\n",
            "Successfully installed PyPDF2-3.0.1\n"
          ]
        }
      ]
    },
    {
      "cell_type": "markdown",
      "source": [
        "Reading a PDF file"
      ],
      "metadata": {
        "id": "0jpBcbEO_WmH"
      }
    },
    {
      "cell_type": "code",
      "source": [
        "import PyPDF2\n",
        "# opening pdf file in reading binary mode\n",
        "file_=open('/content/500-KB.pdf',mode='rb')\n",
        "# reading the pdf file\n",
        "pdf_reader=PyPDF2.PdfReader(file_)\n",
        "# checking for number of pages the pdf have\n",
        "len(pdf_reader.pages)\n",
        "# now checking for data on each page\n",
        "page2=pdf_reader.pages[0]\n",
        "print(page2.extract_text())\n",
        "file_.close()"
      ],
      "metadata": {
        "colab": {
          "base_uri": "https://localhost:8080/"
        },
        "id": "ZbUkR6UH63BD",
        "outputId": "df3ae332-5c38-4fdd-97ee-ef3257f66518"
      },
      "execution_count": 24,
      "outputs": [
        {
          "output_type": "stream",
          "name": "stdout",
          "text": [
            "Lorem ipsum dolor sit amet, consectetur adipiscing elit. Donec iaculis elit nec ante eleifend, \n",
            "eget cursus tortor auctor. Integer at ultrices lorem, eget bibendum turpis. Praesent lacus \n",
            "sapien, ullamcorper gravida suscipit eu, pharetra et eros. Integer int erdum dictum volutpat. \n",
            "Nulla pellentesque ante vitae sapien luctus ornare. Ut a risus quis diam rhoncus rhoncus. \n",
            "Integer tortor lorem, vulputate non tempus eu, suscipit id tellus. In laoreet sollicitudin quam, et \n",
            "condimentum justo ultrices eget. Pellentesq ue hendrerit suscipit diam ac porttitor. Aenean \n",
            "dictum id magna vel venenatis. In rhoncus tempus libero, sed consectetur nibh ultrices nec.  \n",
            "Aenean pulvinar euismod ligula at lacinia. Ut consectetur dui ipsum, a rhoncus lacus gravida \n",
            "vitae. In mollis tortor  in libero lobortis molestie. Integer tempor justo ligula, eu euismod lectus \n",
            "fringilla eu. Proin vestibulum sodales tristique. Pellentesque pretium, nibh et aliquet \n",
            "scelerisque, felis nulla lobortis tellus, at tristique libero ipsum a leo. Nulla mauris tur pis, feugiat \n",
            "eu lacus eu, eleifend malesuada lorem. Praesent quis justo ligula. Cras quam risus, ultricies at \n",
            "odio accumsan, maximus eleifend justo. Sed sed convallis elit. In finibus congue mauris at \n",
            "venenatis. Praesent pellentesque lacus eros, nec auctor  neque semper eget. Sed vehicula \n",
            "ornare efficitur. Donec magna felis, ullamcorper et euismod eget, facilisis sed nibh.  \n",
            " \n",
            " \n",
            "1 2 3 4 \n",
            "5 6 7 8 \n",
            "9 10 11 12 \n",
            " \n"
          ]
        }
      ]
    },
    {
      "cell_type": "markdown",
      "source": [
        "Reading from a PDF file and writting it to new file"
      ],
      "metadata": {
        "id": "Y1rqInae_Zuo"
      }
    },
    {
      "cell_type": "code",
      "source": [
        "# opening pdf file in reading binary mode\n",
        "file_=open('/content/500-KB.pdf',mode='rb')\n",
        "# reading the pdf file\n",
        "pdf_reader=PyPDF2.PdfReader(file_)\n",
        "# now checking for data on each page\n",
        "page2=pdf_reader.pages[1]\n",
        "# writing for file\n",
        "pdf_writer=PyPDF2.PdfWriter()\n",
        "# adding the text of first pdf to a new pdf\n",
        "pdf_writer.add_page(page2)\n",
        "# creating a new pdf\n",
        "new_pdf=open('My_new_pdf.pdf','wb')\n",
        "pdf_writer.write(new_pdf)\n",
        "file_.close()\n",
        "new_pdf.close()"
      ],
      "metadata": {
        "id": "zlkdr1om7BX0"
      },
      "execution_count": 26,
      "outputs": []
    },
    {
      "cell_type": "code",
      "source": [
        "# opening pdf file in reading binary mode\n",
        "file_=open('/content/My_new_pdf.pdf',mode='rb')\n",
        "# reading the pdf file\n",
        "pdf_reader=PyPDF2.PdfReader(file_)\n",
        "# checking for number of pages the pdf have\n",
        "len(pdf_reader.pages)\n",
        "# now checking for data on each page\n",
        "#page2=pdf_reader.pages[0]\n",
        "#print(page2.extract_text())"
      ],
      "metadata": {
        "colab": {
          "base_uri": "https://localhost:8080/"
        },
        "id": "RPZadyn1AyfB",
        "outputId": "5dfb2205-1715-408e-954b-9784e246e081"
      },
      "execution_count": 27,
      "outputs": [
        {
          "output_type": "execute_result",
          "data": {
            "text/plain": [
              "1"
            ]
          },
          "metadata": {},
          "execution_count": 27
        }
      ]
    },
    {
      "cell_type": "markdown",
      "source": [
        "Reading all data from a pdf"
      ],
      "metadata": {
        "id": "_deXpoKOEUpq"
      }
    },
    {
      "cell_type": "code",
      "source": [
        "data=[]\n",
        "# opening pdf file in reading binary mode\n",
        "file_=open('/content/500-KB.pdf',mode='rb')\n",
        "# reading the pdf file\n",
        "pdf_reader=PyPDF2.PdfReader(file_)\n",
        "for i in range(len(pdf_reader.pages)):\n",
        "  d=pdf_reader.pages[i]\n",
        "  data.append(page2.extract_text())"
      ],
      "metadata": {
        "id": "zHLfSi2bB35J"
      },
      "execution_count": 28,
      "outputs": []
    },
    {
      "cell_type": "code",
      "source": [
        "for i in data:\n",
        "  print(i,'\\n')"
      ],
      "metadata": {
        "colab": {
          "base_uri": "https://localhost:8080/"
        },
        "id": "EWzsG9lND_7c",
        "outputId": "2270c12f-98b2-4e7c-f2e1-3a672bedf194"
      },
      "execution_count": 29,
      "outputs": [
        {
          "output_type": "stream",
          "name": "stdout",
          "text": [
            "Vestibulum fermentum augue a lacus mattis condimentum. Sed ligula lacus, fau cibus non \n",
            "suscipit sed, volutpat id nisl. Orci varius natoque  penatibus et magnis dis partu rient montes, \n",
            "nascetur ridiculus mus. Class aptent taciti sociosqu ad litora torquent per conubia nostra, per \n",
            "inceptos himenaeos. Etiam et facilisis nibh, sagittis v ulputate magna. Morbi iaculis placerat \n",
            "mauris eu sollicitudin . Nam ac varius sem, sit amet dictum tortor. Etiam finibus metus lacus. Ut \n",
            "tincidunt, lacus vel rhoncus viverra, enim purus sollicitudin lacus, id vulputate ante felis ut ante. \n",
            "Integer non purus feugiat, blandit lorem ut, elementum lectus. Sed condimentum accumsan \n",
            "arcu vel vehicula.  \n",
            " \n",
            "In aliquam iaculis rutrum. Donec vulputate eget eros a aliquet. Morbi ultrices interdum mi eget \n",
            "aliquam. Donec interdum faucibus neque. Suspendisse varius tellus ipsum , in commodo sapien \n",
            "faucibus a. Aliquam vel massa nisi. Duis sed dignissim augue. Ut eget  pellentesque nisl. Donec \n",
            "sed turpis fermentum, commodo massa sed, consequat dolor.  \n",
            "Nulla id nulla posuere, pharetra metus tincidunt, porta tellus. Suspendisse a ornar e mauris. \n",
            "Phasellus sed ultricies nisi. Aliquam aliquam, diam vitae venenatis auctor, fel is enim volutpat \n",
            "nisl, sit amet ullamcorper lacus neque ut enim. Quisque dolor orci, porttitor ac augue id, \n",
            "suscipit congue eros. Morbi ut erat arcu. Mauris accumsan m auris sed erat vehicula volutpat. \n",
            "Pellentesque habitant morbi tristique senectus et netus  et malesuada fames ac turpis egestas. \n",
            "Aenean eget vulputate mauris. Pellentesque convallis risus libero, ut scelerisque nisi \n",
            "consectetur id. Donec tempor purus nisi, ut pharetra neque varius nec. Donec at aliquam  \n",
            "\n",
            "Vestibulum fermentum augue a lacus mattis condimentum. Sed ligula lacus, fau cibus non \n",
            "suscipit sed, volutpat id nisl. Orci varius natoque  penatibus et magnis dis partu rient montes, \n",
            "nascetur ridiculus mus. Class aptent taciti sociosqu ad litora torquent per conubia nostra, per \n",
            "inceptos himenaeos. Etiam et facilisis nibh, sagittis v ulputate magna. Morbi iaculis placerat \n",
            "mauris eu sollicitudin . Nam ac varius sem, sit amet dictum tortor. Etiam finibus metus lacus. Ut \n",
            "tincidunt, lacus vel rhoncus viverra, enim purus sollicitudin lacus, id vulputate ante felis ut ante. \n",
            "Integer non purus feugiat, blandit lorem ut, elementum lectus. Sed condimentum accumsan \n",
            "arcu vel vehicula.  \n",
            " \n",
            "In aliquam iaculis rutrum. Donec vulputate eget eros a aliquet. Morbi ultrices interdum mi eget \n",
            "aliquam. Donec interdum faucibus neque. Suspendisse varius tellus ipsum , in commodo sapien \n",
            "faucibus a. Aliquam vel massa nisi. Duis sed dignissim augue. Ut eget  pellentesque nisl. Donec \n",
            "sed turpis fermentum, commodo massa sed, consequat dolor.  \n",
            "Nulla id nulla posuere, pharetra metus tincidunt, porta tellus. Suspendisse a ornar e mauris. \n",
            "Phasellus sed ultricies nisi. Aliquam aliquam, diam vitae venenatis auctor, fel is enim volutpat \n",
            "nisl, sit amet ullamcorper lacus neque ut enim. Quisque dolor orci, porttitor ac augue id, \n",
            "suscipit congue eros. Morbi ut erat arcu. Mauris accumsan m auris sed erat vehicula volutpat. \n",
            "Pellentesque habitant morbi tristique senectus et netus  et malesuada fames ac turpis egestas. \n",
            "Aenean eget vulputate mauris. Pellentesque convallis risus libero, ut scelerisque nisi \n",
            "consectetur id. Donec tempor purus nisi, ut pharetra neque varius nec. Donec at aliquam  \n",
            "\n",
            "Vestibulum fermentum augue a lacus mattis condimentum. Sed ligula lacus, fau cibus non \n",
            "suscipit sed, volutpat id nisl. Orci varius natoque  penatibus et magnis dis partu rient montes, \n",
            "nascetur ridiculus mus. Class aptent taciti sociosqu ad litora torquent per conubia nostra, per \n",
            "inceptos himenaeos. Etiam et facilisis nibh, sagittis v ulputate magna. Morbi iaculis placerat \n",
            "mauris eu sollicitudin . Nam ac varius sem, sit amet dictum tortor. Etiam finibus metus lacus. Ut \n",
            "tincidunt, lacus vel rhoncus viverra, enim purus sollicitudin lacus, id vulputate ante felis ut ante. \n",
            "Integer non purus feugiat, blandit lorem ut, elementum lectus. Sed condimentum accumsan \n",
            "arcu vel vehicula.  \n",
            " \n",
            "In aliquam iaculis rutrum. Donec vulputate eget eros a aliquet. Morbi ultrices interdum mi eget \n",
            "aliquam. Donec interdum faucibus neque. Suspendisse varius tellus ipsum , in commodo sapien \n",
            "faucibus a. Aliquam vel massa nisi. Duis sed dignissim augue. Ut eget  pellentesque nisl. Donec \n",
            "sed turpis fermentum, commodo massa sed, consequat dolor.  \n",
            "Nulla id nulla posuere, pharetra metus tincidunt, porta tellus. Suspendisse a ornar e mauris. \n",
            "Phasellus sed ultricies nisi. Aliquam aliquam, diam vitae venenatis auctor, fel is enim volutpat \n",
            "nisl, sit amet ullamcorper lacus neque ut enim. Quisque dolor orci, porttitor ac augue id, \n",
            "suscipit congue eros. Morbi ut erat arcu. Mauris accumsan m auris sed erat vehicula volutpat. \n",
            "Pellentesque habitant morbi tristique senectus et netus  et malesuada fames ac turpis egestas. \n",
            "Aenean eget vulputate mauris. Pellentesque convallis risus libero, ut scelerisque nisi \n",
            "consectetur id. Donec tempor purus nisi, ut pharetra neque varius nec. Donec at aliquam  \n",
            "\n",
            "Vestibulum fermentum augue a lacus mattis condimentum. Sed ligula lacus, fau cibus non \n",
            "suscipit sed, volutpat id nisl. Orci varius natoque  penatibus et magnis dis partu rient montes, \n",
            "nascetur ridiculus mus. Class aptent taciti sociosqu ad litora torquent per conubia nostra, per \n",
            "inceptos himenaeos. Etiam et facilisis nibh, sagittis v ulputate magna. Morbi iaculis placerat \n",
            "mauris eu sollicitudin . Nam ac varius sem, sit amet dictum tortor. Etiam finibus metus lacus. Ut \n",
            "tincidunt, lacus vel rhoncus viverra, enim purus sollicitudin lacus, id vulputate ante felis ut ante. \n",
            "Integer non purus feugiat, blandit lorem ut, elementum lectus. Sed condimentum accumsan \n",
            "arcu vel vehicula.  \n",
            " \n",
            "In aliquam iaculis rutrum. Donec vulputate eget eros a aliquet. Morbi ultrices interdum mi eget \n",
            "aliquam. Donec interdum faucibus neque. Suspendisse varius tellus ipsum , in commodo sapien \n",
            "faucibus a. Aliquam vel massa nisi. Duis sed dignissim augue. Ut eget  pellentesque nisl. Donec \n",
            "sed turpis fermentum, commodo massa sed, consequat dolor.  \n",
            "Nulla id nulla posuere, pharetra metus tincidunt, porta tellus. Suspendisse a ornar e mauris. \n",
            "Phasellus sed ultricies nisi. Aliquam aliquam, diam vitae venenatis auctor, fel is enim volutpat \n",
            "nisl, sit amet ullamcorper lacus neque ut enim. Quisque dolor orci, porttitor ac augue id, \n",
            "suscipit congue eros. Morbi ut erat arcu. Mauris accumsan m auris sed erat vehicula volutpat. \n",
            "Pellentesque habitant morbi tristique senectus et netus  et malesuada fames ac turpis egestas. \n",
            "Aenean eget vulputate mauris. Pellentesque convallis risus libero, ut scelerisque nisi \n",
            "consectetur id. Donec tempor purus nisi, ut pharetra neque varius nec. Donec at aliquam  \n",
            "\n",
            "Vestibulum fermentum augue a lacus mattis condimentum. Sed ligula lacus, fau cibus non \n",
            "suscipit sed, volutpat id nisl. Orci varius natoque  penatibus et magnis dis partu rient montes, \n",
            "nascetur ridiculus mus. Class aptent taciti sociosqu ad litora torquent per conubia nostra, per \n",
            "inceptos himenaeos. Etiam et facilisis nibh, sagittis v ulputate magna. Morbi iaculis placerat \n",
            "mauris eu sollicitudin . Nam ac varius sem, sit amet dictum tortor. Etiam finibus metus lacus. Ut \n",
            "tincidunt, lacus vel rhoncus viverra, enim purus sollicitudin lacus, id vulputate ante felis ut ante. \n",
            "Integer non purus feugiat, blandit lorem ut, elementum lectus. Sed condimentum accumsan \n",
            "arcu vel vehicula.  \n",
            " \n",
            "In aliquam iaculis rutrum. Donec vulputate eget eros a aliquet. Morbi ultrices interdum mi eget \n",
            "aliquam. Donec interdum faucibus neque. Suspendisse varius tellus ipsum , in commodo sapien \n",
            "faucibus a. Aliquam vel massa nisi. Duis sed dignissim augue. Ut eget  pellentesque nisl. Donec \n",
            "sed turpis fermentum, commodo massa sed, consequat dolor.  \n",
            "Nulla id nulla posuere, pharetra metus tincidunt, porta tellus. Suspendisse a ornar e mauris. \n",
            "Phasellus sed ultricies nisi. Aliquam aliquam, diam vitae venenatis auctor, fel is enim volutpat \n",
            "nisl, sit amet ullamcorper lacus neque ut enim. Quisque dolor orci, porttitor ac augue id, \n",
            "suscipit congue eros. Morbi ut erat arcu. Mauris accumsan m auris sed erat vehicula volutpat. \n",
            "Pellentesque habitant morbi tristique senectus et netus  et malesuada fames ac turpis egestas. \n",
            "Aenean eget vulputate mauris. Pellentesque convallis risus libero, ut scelerisque nisi \n",
            "consectetur id. Donec tempor purus nisi, ut pharetra neque varius nec. Donec at aliquam  \n",
            "\n",
            "Vestibulum fermentum augue a lacus mattis condimentum. Sed ligula lacus, fau cibus non \n",
            "suscipit sed, volutpat id nisl. Orci varius natoque  penatibus et magnis dis partu rient montes, \n",
            "nascetur ridiculus mus. Class aptent taciti sociosqu ad litora torquent per conubia nostra, per \n",
            "inceptos himenaeos. Etiam et facilisis nibh, sagittis v ulputate magna. Morbi iaculis placerat \n",
            "mauris eu sollicitudin . Nam ac varius sem, sit amet dictum tortor. Etiam finibus metus lacus. Ut \n",
            "tincidunt, lacus vel rhoncus viverra, enim purus sollicitudin lacus, id vulputate ante felis ut ante. \n",
            "Integer non purus feugiat, blandit lorem ut, elementum lectus. Sed condimentum accumsan \n",
            "arcu vel vehicula.  \n",
            " \n",
            "In aliquam iaculis rutrum. Donec vulputate eget eros a aliquet. Morbi ultrices interdum mi eget \n",
            "aliquam. Donec interdum faucibus neque. Suspendisse varius tellus ipsum , in commodo sapien \n",
            "faucibus a. Aliquam vel massa nisi. Duis sed dignissim augue. Ut eget  pellentesque nisl. Donec \n",
            "sed turpis fermentum, commodo massa sed, consequat dolor.  \n",
            "Nulla id nulla posuere, pharetra metus tincidunt, porta tellus. Suspendisse a ornar e mauris. \n",
            "Phasellus sed ultricies nisi. Aliquam aliquam, diam vitae venenatis auctor, fel is enim volutpat \n",
            "nisl, sit amet ullamcorper lacus neque ut enim. Quisque dolor orci, porttitor ac augue id, \n",
            "suscipit congue eros. Morbi ut erat arcu. Mauris accumsan m auris sed erat vehicula volutpat. \n",
            "Pellentesque habitant morbi tristique senectus et netus  et malesuada fames ac turpis egestas. \n",
            "Aenean eget vulputate mauris. Pellentesque convallis risus libero, ut scelerisque nisi \n",
            "consectetur id. Donec tempor purus nisi, ut pharetra neque varius nec. Donec at aliquam  \n",
            "\n",
            "Vestibulum fermentum augue a lacus mattis condimentum. Sed ligula lacus, fau cibus non \n",
            "suscipit sed, volutpat id nisl. Orci varius natoque  penatibus et magnis dis partu rient montes, \n",
            "nascetur ridiculus mus. Class aptent taciti sociosqu ad litora torquent per conubia nostra, per \n",
            "inceptos himenaeos. Etiam et facilisis nibh, sagittis v ulputate magna. Morbi iaculis placerat \n",
            "mauris eu sollicitudin . Nam ac varius sem, sit amet dictum tortor. Etiam finibus metus lacus. Ut \n",
            "tincidunt, lacus vel rhoncus viverra, enim purus sollicitudin lacus, id vulputate ante felis ut ante. \n",
            "Integer non purus feugiat, blandit lorem ut, elementum lectus. Sed condimentum accumsan \n",
            "arcu vel vehicula.  \n",
            " \n",
            "In aliquam iaculis rutrum. Donec vulputate eget eros a aliquet. Morbi ultrices interdum mi eget \n",
            "aliquam. Donec interdum faucibus neque. Suspendisse varius tellus ipsum , in commodo sapien \n",
            "faucibus a. Aliquam vel massa nisi. Duis sed dignissim augue. Ut eget  pellentesque nisl. Donec \n",
            "sed turpis fermentum, commodo massa sed, consequat dolor.  \n",
            "Nulla id nulla posuere, pharetra metus tincidunt, porta tellus. Suspendisse a ornar e mauris. \n",
            "Phasellus sed ultricies nisi. Aliquam aliquam, diam vitae venenatis auctor, fel is enim volutpat \n",
            "nisl, sit amet ullamcorper lacus neque ut enim. Quisque dolor orci, porttitor ac augue id, \n",
            "suscipit congue eros. Morbi ut erat arcu. Mauris accumsan m auris sed erat vehicula volutpat. \n",
            "Pellentesque habitant morbi tristique senectus et netus  et malesuada fames ac turpis egestas. \n",
            "Aenean eget vulputate mauris. Pellentesque convallis risus libero, ut scelerisque nisi \n",
            "consectetur id. Donec tempor purus nisi, ut pharetra neque varius nec. Donec at aliquam  \n",
            "\n",
            "Vestibulum fermentum augue a lacus mattis condimentum. Sed ligula lacus, fau cibus non \n",
            "suscipit sed, volutpat id nisl. Orci varius natoque  penatibus et magnis dis partu rient montes, \n",
            "nascetur ridiculus mus. Class aptent taciti sociosqu ad litora torquent per conubia nostra, per \n",
            "inceptos himenaeos. Etiam et facilisis nibh, sagittis v ulputate magna. Morbi iaculis placerat \n",
            "mauris eu sollicitudin . Nam ac varius sem, sit amet dictum tortor. Etiam finibus metus lacus. Ut \n",
            "tincidunt, lacus vel rhoncus viverra, enim purus sollicitudin lacus, id vulputate ante felis ut ante. \n",
            "Integer non purus feugiat, blandit lorem ut, elementum lectus. Sed condimentum accumsan \n",
            "arcu vel vehicula.  \n",
            " \n",
            "In aliquam iaculis rutrum. Donec vulputate eget eros a aliquet. Morbi ultrices interdum mi eget \n",
            "aliquam. Donec interdum faucibus neque. Suspendisse varius tellus ipsum , in commodo sapien \n",
            "faucibus a. Aliquam vel massa nisi. Duis sed dignissim augue. Ut eget  pellentesque nisl. Donec \n",
            "sed turpis fermentum, commodo massa sed, consequat dolor.  \n",
            "Nulla id nulla posuere, pharetra metus tincidunt, porta tellus. Suspendisse a ornar e mauris. \n",
            "Phasellus sed ultricies nisi. Aliquam aliquam, diam vitae venenatis auctor, fel is enim volutpat \n",
            "nisl, sit amet ullamcorper lacus neque ut enim. Quisque dolor orci, porttitor ac augue id, \n",
            "suscipit congue eros. Morbi ut erat arcu. Mauris accumsan m auris sed erat vehicula volutpat. \n",
            "Pellentesque habitant morbi tristique senectus et netus  et malesuada fames ac turpis egestas. \n",
            "Aenean eget vulputate mauris. Pellentesque convallis risus libero, ut scelerisque nisi \n",
            "consectetur id. Donec tempor purus nisi, ut pharetra neque varius nec. Donec at aliquam  \n",
            "\n",
            "Vestibulum fermentum augue a lacus mattis condimentum. Sed ligula lacus, fau cibus non \n",
            "suscipit sed, volutpat id nisl. Orci varius natoque  penatibus et magnis dis partu rient montes, \n",
            "nascetur ridiculus mus. Class aptent taciti sociosqu ad litora torquent per conubia nostra, per \n",
            "inceptos himenaeos. Etiam et facilisis nibh, sagittis v ulputate magna. Morbi iaculis placerat \n",
            "mauris eu sollicitudin . Nam ac varius sem, sit amet dictum tortor. Etiam finibus metus lacus. Ut \n",
            "tincidunt, lacus vel rhoncus viverra, enim purus sollicitudin lacus, id vulputate ante felis ut ante. \n",
            "Integer non purus feugiat, blandit lorem ut, elementum lectus. Sed condimentum accumsan \n",
            "arcu vel vehicula.  \n",
            " \n",
            "In aliquam iaculis rutrum. Donec vulputate eget eros a aliquet. Morbi ultrices interdum mi eget \n",
            "aliquam. Donec interdum faucibus neque. Suspendisse varius tellus ipsum , in commodo sapien \n",
            "faucibus a. Aliquam vel massa nisi. Duis sed dignissim augue. Ut eget  pellentesque nisl. Donec \n",
            "sed turpis fermentum, commodo massa sed, consequat dolor.  \n",
            "Nulla id nulla posuere, pharetra metus tincidunt, porta tellus. Suspendisse a ornar e mauris. \n",
            "Phasellus sed ultricies nisi. Aliquam aliquam, diam vitae venenatis auctor, fel is enim volutpat \n",
            "nisl, sit amet ullamcorper lacus neque ut enim. Quisque dolor orci, porttitor ac augue id, \n",
            "suscipit congue eros. Morbi ut erat arcu. Mauris accumsan m auris sed erat vehicula volutpat. \n",
            "Pellentesque habitant morbi tristique senectus et netus  et malesuada fames ac turpis egestas. \n",
            "Aenean eget vulputate mauris. Pellentesque convallis risus libero, ut scelerisque nisi \n",
            "consectetur id. Donec tempor purus nisi, ut pharetra neque varius nec. Donec at aliquam  \n",
            "\n",
            "Vestibulum fermentum augue a lacus mattis condimentum. Sed ligula lacus, fau cibus non \n",
            "suscipit sed, volutpat id nisl. Orci varius natoque  penatibus et magnis dis partu rient montes, \n",
            "nascetur ridiculus mus. Class aptent taciti sociosqu ad litora torquent per conubia nostra, per \n",
            "inceptos himenaeos. Etiam et facilisis nibh, sagittis v ulputate magna. Morbi iaculis placerat \n",
            "mauris eu sollicitudin . Nam ac varius sem, sit amet dictum tortor. Etiam finibus metus lacus. Ut \n",
            "tincidunt, lacus vel rhoncus viverra, enim purus sollicitudin lacus, id vulputate ante felis ut ante. \n",
            "Integer non purus feugiat, blandit lorem ut, elementum lectus. Sed condimentum accumsan \n",
            "arcu vel vehicula.  \n",
            " \n",
            "In aliquam iaculis rutrum. Donec vulputate eget eros a aliquet. Morbi ultrices interdum mi eget \n",
            "aliquam. Donec interdum faucibus neque. Suspendisse varius tellus ipsum , in commodo sapien \n",
            "faucibus a. Aliquam vel massa nisi. Duis sed dignissim augue. Ut eget  pellentesque nisl. Donec \n",
            "sed turpis fermentum, commodo massa sed, consequat dolor.  \n",
            "Nulla id nulla posuere, pharetra metus tincidunt, porta tellus. Suspendisse a ornar e mauris. \n",
            "Phasellus sed ultricies nisi. Aliquam aliquam, diam vitae venenatis auctor, fel is enim volutpat \n",
            "nisl, sit amet ullamcorper lacus neque ut enim. Quisque dolor orci, porttitor ac augue id, \n",
            "suscipit congue eros. Morbi ut erat arcu. Mauris accumsan m auris sed erat vehicula volutpat. \n",
            "Pellentesque habitant morbi tristique senectus et netus  et malesuada fames ac turpis egestas. \n",
            "Aenean eget vulputate mauris. Pellentesque convallis risus libero, ut scelerisque nisi \n",
            "consectetur id. Donec tempor purus nisi, ut pharetra neque varius nec. Donec at aliquam  \n",
            "\n",
            "Vestibulum fermentum augue a lacus mattis condimentum. Sed ligula lacus, fau cibus non \n",
            "suscipit sed, volutpat id nisl. Orci varius natoque  penatibus et magnis dis partu rient montes, \n",
            "nascetur ridiculus mus. Class aptent taciti sociosqu ad litora torquent per conubia nostra, per \n",
            "inceptos himenaeos. Etiam et facilisis nibh, sagittis v ulputate magna. Morbi iaculis placerat \n",
            "mauris eu sollicitudin . Nam ac varius sem, sit amet dictum tortor. Etiam finibus metus lacus. Ut \n",
            "tincidunt, lacus vel rhoncus viverra, enim purus sollicitudin lacus, id vulputate ante felis ut ante. \n",
            "Integer non purus feugiat, blandit lorem ut, elementum lectus. Sed condimentum accumsan \n",
            "arcu vel vehicula.  \n",
            " \n",
            "In aliquam iaculis rutrum. Donec vulputate eget eros a aliquet. Morbi ultrices interdum mi eget \n",
            "aliquam. Donec interdum faucibus neque. Suspendisse varius tellus ipsum , in commodo sapien \n",
            "faucibus a. Aliquam vel massa nisi. Duis sed dignissim augue. Ut eget  pellentesque nisl. Donec \n",
            "sed turpis fermentum, commodo massa sed, consequat dolor.  \n",
            "Nulla id nulla posuere, pharetra metus tincidunt, porta tellus. Suspendisse a ornar e mauris. \n",
            "Phasellus sed ultricies nisi. Aliquam aliquam, diam vitae venenatis auctor, fel is enim volutpat \n",
            "nisl, sit amet ullamcorper lacus neque ut enim. Quisque dolor orci, porttitor ac augue id, \n",
            "suscipit congue eros. Morbi ut erat arcu. Mauris accumsan m auris sed erat vehicula volutpat. \n",
            "Pellentesque habitant morbi tristique senectus et netus  et malesuada fames ac turpis egestas. \n",
            "Aenean eget vulputate mauris. Pellentesque convallis risus libero, ut scelerisque nisi \n",
            "consectetur id. Donec tempor purus nisi, ut pharetra neque varius nec. Donec at aliquam  \n",
            "\n",
            "Vestibulum fermentum augue a lacus mattis condimentum. Sed ligula lacus, fau cibus non \n",
            "suscipit sed, volutpat id nisl. Orci varius natoque  penatibus et magnis dis partu rient montes, \n",
            "nascetur ridiculus mus. Class aptent taciti sociosqu ad litora torquent per conubia nostra, per \n",
            "inceptos himenaeos. Etiam et facilisis nibh, sagittis v ulputate magna. Morbi iaculis placerat \n",
            "mauris eu sollicitudin . Nam ac varius sem, sit amet dictum tortor. Etiam finibus metus lacus. Ut \n",
            "tincidunt, lacus vel rhoncus viverra, enim purus sollicitudin lacus, id vulputate ante felis ut ante. \n",
            "Integer non purus feugiat, blandit lorem ut, elementum lectus. Sed condimentum accumsan \n",
            "arcu vel vehicula.  \n",
            " \n",
            "In aliquam iaculis rutrum. Donec vulputate eget eros a aliquet. Morbi ultrices interdum mi eget \n",
            "aliquam. Donec interdum faucibus neque. Suspendisse varius tellus ipsum , in commodo sapien \n",
            "faucibus a. Aliquam vel massa nisi. Duis sed dignissim augue. Ut eget  pellentesque nisl. Donec \n",
            "sed turpis fermentum, commodo massa sed, consequat dolor.  \n",
            "Nulla id nulla posuere, pharetra metus tincidunt, porta tellus. Suspendisse a ornar e mauris. \n",
            "Phasellus sed ultricies nisi. Aliquam aliquam, diam vitae venenatis auctor, fel is enim volutpat \n",
            "nisl, sit amet ullamcorper lacus neque ut enim. Quisque dolor orci, porttitor ac augue id, \n",
            "suscipit congue eros. Morbi ut erat arcu. Mauris accumsan m auris sed erat vehicula volutpat. \n",
            "Pellentesque habitant morbi tristique senectus et netus  et malesuada fames ac turpis egestas. \n",
            "Aenean eget vulputate mauris. Pellentesque convallis risus libero, ut scelerisque nisi \n",
            "consectetur id. Donec tempor purus nisi, ut pharetra neque varius nec. Donec at aliquam  \n",
            "\n",
            "Vestibulum fermentum augue a lacus mattis condimentum. Sed ligula lacus, fau cibus non \n",
            "suscipit sed, volutpat id nisl. Orci varius natoque  penatibus et magnis dis partu rient montes, \n",
            "nascetur ridiculus mus. Class aptent taciti sociosqu ad litora torquent per conubia nostra, per \n",
            "inceptos himenaeos. Etiam et facilisis nibh, sagittis v ulputate magna. Morbi iaculis placerat \n",
            "mauris eu sollicitudin . Nam ac varius sem, sit amet dictum tortor. Etiam finibus metus lacus. Ut \n",
            "tincidunt, lacus vel rhoncus viverra, enim purus sollicitudin lacus, id vulputate ante felis ut ante. \n",
            "Integer non purus feugiat, blandit lorem ut, elementum lectus. Sed condimentum accumsan \n",
            "arcu vel vehicula.  \n",
            " \n",
            "In aliquam iaculis rutrum. Donec vulputate eget eros a aliquet. Morbi ultrices interdum mi eget \n",
            "aliquam. Donec interdum faucibus neque. Suspendisse varius tellus ipsum , in commodo sapien \n",
            "faucibus a. Aliquam vel massa nisi. Duis sed dignissim augue. Ut eget  pellentesque nisl. Donec \n",
            "sed turpis fermentum, commodo massa sed, consequat dolor.  \n",
            "Nulla id nulla posuere, pharetra metus tincidunt, porta tellus. Suspendisse a ornar e mauris. \n",
            "Phasellus sed ultricies nisi. Aliquam aliquam, diam vitae venenatis auctor, fel is enim volutpat \n",
            "nisl, sit amet ullamcorper lacus neque ut enim. Quisque dolor orci, porttitor ac augue id, \n",
            "suscipit congue eros. Morbi ut erat arcu. Mauris accumsan m auris sed erat vehicula volutpat. \n",
            "Pellentesque habitant morbi tristique senectus et netus  et malesuada fames ac turpis egestas. \n",
            "Aenean eget vulputate mauris. Pellentesque convallis risus libero, ut scelerisque nisi \n",
            "consectetur id. Donec tempor purus nisi, ut pharetra neque varius nec. Donec at aliquam  \n",
            "\n"
          ]
        }
      ]
    },
    {
      "cell_type": "code",
      "source": [],
      "metadata": {
        "id": "JSJiHRcjELpF"
      },
      "execution_count": null,
      "outputs": []
    }
  ]
}