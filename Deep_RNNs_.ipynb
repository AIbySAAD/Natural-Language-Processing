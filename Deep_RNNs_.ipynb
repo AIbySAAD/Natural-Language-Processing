{
  "nbformat": 4,
  "nbformat_minor": 0,
  "metadata": {
    "colab": {
      "provenance": []
    },
    "kernelspec": {
      "name": "python3",
      "display_name": "Python 3"
    },
    "language_info": {
      "name": "python"
    }
  },
  "cells": [
    {
      "cell_type": "code",
      "source": [
        "import tensorflow as tf\n",
        "from tensorflow.keras.datasets import imdb\n",
        "from tensorflow.keras.preprocessing.sequence import pad_sequences\n",
        "from tensorflow.keras.models import Sequential\n",
        "from tensorflow.keras.layers import Embedding,SimpleRNN,Dense"
      ],
      "metadata": {
        "id": "rQj_0RJq2OJa"
      },
      "execution_count": 1,
      "outputs": []
    },
    {
      "cell_type": "code",
      "source": [
        "# load dataset\n",
        "(x_train,y_train),(x_test,y_test)=imdb.load_data(num_words=1000)\n",
        "# pad sequence to have same length\n",
        "x_train=pad_sequences(x_train,maxlen=100)\n",
        "x_test=pad_sequences(x_test,maxlen=100)"
      ],
      "metadata": {
        "colab": {
          "base_uri": "https://localhost:8080/"
        },
        "id": "WKHlt4m_2pw2",
        "outputId": "1b92daf5-82ba-4b13-c5e1-4abcbfad3a36"
      },
      "execution_count": 2,
      "outputs": [
        {
          "output_type": "stream",
          "name": "stdout",
          "text": [
            "Downloading data from https://storage.googleapis.com/tensorflow/tf-keras-datasets/imdb.npz\n",
            "17464789/17464789 [==============================] - 0s 0us/step\n"
          ]
        }
      ]
    },
    {
      "cell_type": "code",
      "source": [
        "# RNN model\n",
        "model=Sequential([\n",
        "    Embedding(10000,32,input_length=100),  # Embedding layer to convert words to vectors\n",
        "    SimpleRNN(5,return_sequences=True), # RNN layer with 5 units\n",
        "    SimpleRNN(5), # Another RNN layer with 5 units\n",
        "    Dense(1,activation='sigmoid') # output layer for binary classification\n",
        "])\n",
        "model.summary()"
      ],
      "metadata": {
        "colab": {
          "base_uri": "https://localhost:8080/"
        },
        "id": "jx1KUJdq3EL8",
        "outputId": "f1bd0391-9ccf-428c-a824-b5cf630ab797"
      },
      "execution_count": 4,
      "outputs": [
        {
          "output_type": "stream",
          "name": "stdout",
          "text": [
            "Model: \"sequential_1\"\n",
            "_________________________________________________________________\n",
            " Layer (type)                Output Shape              Param #   \n",
            "=================================================================\n",
            " embedding_1 (Embedding)     (None, 100, 32)           320000    \n",
            "                                                                 \n",
            " simple_rnn_2 (SimpleRNN)    (None, 100, 5)            190       \n",
            "                                                                 \n",
            " simple_rnn_3 (SimpleRNN)    (None, 5)                 55        \n",
            "                                                                 \n",
            " dense_1 (Dense)             (None, 1)                 6         \n",
            "                                                                 \n",
            "=================================================================\n",
            "Total params: 320251 (1.22 MB)\n",
            "Trainable params: 320251 (1.22 MB)\n",
            "Non-trainable params: 0 (0.00 Byte)\n",
            "_________________________________________________________________\n"
          ]
        }
      ]
    },
    {
      "cell_type": "code",
      "source": [
        "model.compile(optimizer='adam',loss='binary_crossentropy',metrics=['accuracy'])\n",
        "\n",
        "history=model.fit(x_train,y_train,epochs=5,batch_size=32,validation_split=0.2)"
      ],
      "metadata": {
        "colab": {
          "base_uri": "https://localhost:8080/"
        },
        "id": "TQpUv1Pk3_CP",
        "outputId": "e6001674-f667-43e5-8283-2fb9dbef7a89"
      },
      "execution_count": 5,
      "outputs": [
        {
          "output_type": "stream",
          "name": "stdout",
          "text": [
            "Epoch 1/5\n",
            "625/625 [==============================] - 29s 43ms/step - loss: 0.6561 - accuracy: 0.5954 - val_loss: 0.5447 - val_accuracy: 0.7486\n",
            "Epoch 2/5\n",
            "625/625 [==============================] - 25s 40ms/step - loss: 0.4944 - accuracy: 0.7753 - val_loss: 0.4807 - val_accuracy: 0.7864\n",
            "Epoch 3/5\n",
            "625/625 [==============================] - 25s 40ms/step - loss: 0.4381 - accuracy: 0.8066 - val_loss: 0.4762 - val_accuracy: 0.7808\n",
            "Epoch 4/5\n",
            "625/625 [==============================] - 25s 40ms/step - loss: 0.4120 - accuracy: 0.8224 - val_loss: 0.4632 - val_accuracy: 0.8002\n",
            "Epoch 5/5\n",
            "625/625 [==============================] - 25s 40ms/step - loss: 0.4003 - accuracy: 0.8296 - val_loss: 0.4747 - val_accuracy: 0.7918\n"
          ]
        }
      ]
    }
  ]
}