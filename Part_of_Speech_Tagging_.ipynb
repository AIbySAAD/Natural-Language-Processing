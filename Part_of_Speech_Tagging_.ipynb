{
  "nbformat": 4,
  "nbformat_minor": 0,
  "metadata": {
    "colab": {
      "provenance": []
    },
    "kernelspec": {
      "name": "python3",
      "display_name": "Python 3"
    },
    "language_info": {
      "name": "python"
    }
  },
  "cells": [
    {
      "cell_type": "code",
      "source": [
        "import spacy\n",
        "nlp=spacy.load('en_core_web_sm')\n",
        "doc=nlp('A quick brown fox jumps over the lazy dog')\n",
        "for token in doc:\n",
        "  print(token.text,'   ',token.pos_)"
      ],
      "metadata": {
        "colab": {
          "base_uri": "https://localhost:8080/"
        },
        "id": "IJyprDci_As0",
        "outputId": "74c6d932-80fe-4753-91a4-ecba07c47aeb"
      },
      "execution_count": 58,
      "outputs": [
        {
          "output_type": "stream",
          "name": "stdout",
          "text": [
            "A     DET\n",
            "quick     ADJ\n",
            "brown     ADJ\n",
            "fox     NOUN\n",
            "jumps     VERB\n",
            "over     ADP\n",
            "the     DET\n",
            "lazy     ADJ\n",
            "dog     NOUN\n"
          ]
        }
      ]
    },
    {
      "cell_type": "code",
      "source": [],
      "metadata": {
        "id": "R7PSUbZ__i4N"
      },
      "execution_count": null,
      "outputs": []
    }
  ]
}