{
  "nbformat": 4,
  "nbformat_minor": 0,
  "metadata": {
    "colab": {
      "provenance": []
    },
    "kernelspec": {
      "name": "python3",
      "display_name": "Python 3"
    },
    "language_info": {
      "name": "python"
    }
  },
  "cells": [
    {
      "cell_type": "markdown",
      "source": [
        "using porter stemmer"
      ],
      "metadata": {
        "id": "4Af2H3mWGh1e"
      }
    },
    {
      "cell_type": "code",
      "source": [
        "from nltk.stem.porter import PorterStemmer\n",
        "p_stemmer=PorterStemmer()\n",
        "words=['run','runner','runs','easily']\n",
        "for word in words:\n",
        "  print(word + '-----' + p_stemmer.stem(word))"
      ],
      "metadata": {
        "colab": {
          "base_uri": "https://localhost:8080/"
        },
        "id": "uHA9JPbbF3gJ",
        "outputId": "1da1473d-d7a8-4295-ef7c-504fa6d5c5d0"
      },
      "execution_count": 13,
      "outputs": [
        {
          "output_type": "stream",
          "name": "stdout",
          "text": [
            "run-----run\n",
            "runner-----runner\n",
            "runs-----run\n",
            "easily-----easili\n"
          ]
        }
      ]
    },
    {
      "cell_type": "markdown",
      "source": [
        "snowball stemmer"
      ],
      "metadata": {
        "id": "m8PryS2aG1QM"
      }
    },
    {
      "cell_type": "code",
      "source": [
        "from nltk.stem.snowball import SnowballStemmer\n",
        "s_stemmer=SnowballStemmer(language='english')\n",
        "words=['run','runner','runs','easily','fairly']\n",
        "for word in words:\n",
        "  print(word + '-----' + s_stemmer.stem(word))"
      ],
      "metadata": {
        "colab": {
          "base_uri": "https://localhost:8080/"
        },
        "id": "t20fzBCjGfsU",
        "outputId": "540dd380-8d3c-469f-c7c0-3868869d816a"
      },
      "execution_count": 17,
      "outputs": [
        {
          "output_type": "stream",
          "name": "stdout",
          "text": [
            "run-----run\n",
            "runner-----runner\n",
            "runs-----run\n",
            "easily-----easili\n",
            "fairly-----fair\n"
          ]
        }
      ]
    },
    {
      "cell_type": "code",
      "source": [],
      "metadata": {
        "id": "wiEziJKCHJVg"
      },
      "execution_count": null,
      "outputs": []
    }
  ]
}