{
  "nbformat": 4,
  "nbformat_minor": 0,
  "metadata": {
    "colab": {
      "provenance": []
    },
    "kernelspec": {
      "name": "python3",
      "display_name": "Python 3"
    },
    "language_info": {
      "name": "python"
    }
  },
  "cells": [
    {
      "cell_type": "markdown",
      "source": [
        "Simply reading the text from a list of tuples"
      ],
      "metadata": {
        "id": "hk5Jcw65_YHf"
      }
    },
    {
      "cell_type": "code",
      "execution_count": 18,
      "metadata": {
        "colab": {
          "base_uri": "https://localhost:8080/"
        },
        "id": "nG1ow_dfIMJF",
        "outputId": "79c64253-33ab-49e0-9622-17c702edcf11"
      },
      "outputs": [
        {
          "output_type": "stream",
          "name": "stdout",
          "text": [
            "Author     Book       Price\n",
            "amin       kjhglkj    600\n",
            "jose       fgadgg     700\n",
            "dorip      dfgegc     900\n"
          ]
        }
      ],
      "source": [
        "books = [('Author','Book','Price'),('amin','kjhglkj',600),('jose','fgadgg',700),('dorip','dfgegc',900)]\n",
        "\n",
        "for author,book,price in books:\n",
        "  print(f'{author:{10}} {book:{10}} {price}')"
      ]
    },
    {
      "cell_type": "markdown",
      "source": [
        "reading from date and time"
      ],
      "metadata": {
        "id": "yOZtWiVAAqe7"
      }
    },
    {
      "cell_type": "markdown",
      "source": [
        "useful link: https://www.programiz.com/python-programming/datetime/strftime"
      ],
      "metadata": {
        "id": "DsMGoCB4BMvV"
      }
    },
    {
      "cell_type": "code",
      "source": [
        "from datetime import datetime\n",
        "today=datetime(year=2024,month=2,day=15)\n",
        "print(f'{today:%P}')"
      ],
      "metadata": {
        "colab": {
          "base_uri": "https://localhost:8080/"
        },
        "id": "RMybbO5I9eO0",
        "outputId": "f2a4e086-95f3-406e-e895-cdf41ffa791e"
      },
      "execution_count": 33,
      "outputs": [
        {
          "output_type": "stream",
          "name": "stdout",
          "text": [
            "am\n"
          ]
        }
      ]
    },
    {
      "cell_type": "markdown",
      "source": [
        "writting your own text file in python\n"
      ],
      "metadata": {
        "id": "OK3r502vDp8C"
      }
    },
    {
      "cell_type": "code",
      "source": [
        "%%writefile text.txt\n",
        "hello this is a demo file.\n",
        "it contains nothing.\n",
        "this is for testing purpose."
      ],
      "metadata": {
        "colab": {
          "base_uri": "https://localhost:8080/"
        },
        "id": "nt__LQQgAJ71",
        "outputId": "0d6cf7d7-208e-4841-93d7-a1f2a3725d1b"
      },
      "execution_count": 34,
      "outputs": [
        {
          "output_type": "stream",
          "name": "stdout",
          "text": [
            "Writing text.txt\n"
          ]
        }
      ]
    },
    {
      "cell_type": "markdown",
      "source": [
        "Working with the file"
      ],
      "metadata": {
        "id": "JfMot7p3Jj62"
      }
    },
    {
      "cell_type": "code",
      "source": [
        "''' reading a text file '''\n",
        "file=open('text.txt')\n",
        "# simple way of reading a file\n",
        "file.read()\n",
        "# now our cursor is at end\n",
        "# to place it again at first index\n",
        "file.seek(0)\n",
        "# now we have to read the content of file instead of escape character\n",
        "content=file.read()\n",
        "print(content)\n",
        "file.close() # maybe sometimes you need to do anything else with file\n",
        "# reading file's content line by line\n",
        "file=open('text.txt')\n",
        "content=file.readlines()\n",
        "print(content)\n",
        "for i in content:\n",
        "  print(i,end='')"
      ],
      "metadata": {
        "colab": {
          "base_uri": "https://localhost:8080/",
          "height": 87
        },
        "id": "Jq_KaBRuD6Jf",
        "outputId": "516afcf4-9fab-4e50-f800-9ecf41559cc8"
      },
      "execution_count": 64,
      "outputs": [
        {
          "output_type": "stream",
          "name": "stdout",
          "text": [
            "ok ok\n",
            "['ok ok']\n",
            "ok ok"
          ]
        },
        {
          "output_type": "execute_result",
          "data": {
            "text/plain": [
              "''"
            ],
            "application/vnd.google.colaboratory.intrinsic+json": {
              "type": "string"
            }
          },
          "metadata": {},
          "execution_count": 64
        }
      ]
    },
    {
      "cell_type": "code",
      "source": [
        "''' Writing into a text file '''\n",
        "file=open('text.txt','w+') # you actually overwritting the original file\n",
        "file.write('ok ok')\n",
        "file.read()"
      ],
      "metadata": {
        "colab": {
          "base_uri": "https://localhost:8080/",
          "height": 35
        },
        "id": "NDK2HGTlG65C",
        "outputId": "fe466c8f-5f73-45f4-ceaf-cd2b054b813c"
      },
      "execution_count": 72,
      "outputs": [
        {
          "output_type": "execute_result",
          "data": {
            "text/plain": [
              "''"
            ],
            "application/vnd.google.colaboratory.intrinsic+json": {
              "type": "string"
            }
          },
          "metadata": {},
          "execution_count": 72
        }
      ]
    },
    {
      "cell_type": "code",
      "source": [
        "''' appending into the file '''\n",
        "file=open('new.txt','a+')\n",
        "file.write('this one is new now')"
      ],
      "metadata": {
        "colab": {
          "base_uri": "https://localhost:8080/"
        },
        "id": "PxbA4G4VK55o",
        "outputId": "d902af22-1670-429b-ef54-e2121ce3d780"
      },
      "execution_count": 77,
      "outputs": [
        {
          "output_type": "execute_result",
          "data": {
            "text/plain": [
              "19"
            ]
          },
          "metadata": {},
          "execution_count": 77
        }
      ]
    },
    {
      "cell_type": "code",
      "source": [
        "file.seek(0)\n",
        "content=file.read()\n",
        "print(content)"
      ],
      "metadata": {
        "colab": {
          "base_uri": "https://localhost:8080/"
        },
        "id": "Z53vzTrILatP",
        "outputId": "1d2a5a32-8be8-41a1-c7f6-3fc5bc923cbf"
      },
      "execution_count": 84,
      "outputs": [
        {
          "output_type": "stream",
          "name": "stdout",
          "text": [
            "this one is new nowthis one is new now\n"
          ]
        }
      ]
    },
    {
      "cell_type": "code",
      "source": [],
      "metadata": {
        "id": "AxNy78FbLpPj"
      },
      "execution_count": null,
      "outputs": []
    }
  ]
}