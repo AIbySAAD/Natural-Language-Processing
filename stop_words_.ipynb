{
  "nbformat": 4,
  "nbformat_minor": 0,
  "metadata": {
    "colab": {
      "provenance": []
    },
    "kernelspec": {
      "name": "python3",
      "display_name": "Python 3"
    },
    "language_info": {
      "name": "python"
    }
  },
  "cells": [
    {
      "cell_type": "code",
      "source": [
        "import spacy\n",
        "nlp=spacy.load('en_core_web_sm')\n",
        "print(nlp.Defaults.stop_words)"
      ],
      "metadata": {
        "colab": {
          "base_uri": "https://localhost:8080/"
        },
        "id": "1XPOdja4K_I1",
        "outputId": "ffc26333-34b4-4935-bd38-befd0b27dcd4"
      },
      "execution_count": 23,
      "outputs": [
        {
          "output_type": "stream",
          "name": "stdout",
          "text": [
            "{'seem', 'just', 'from', 'why', 'nor', 'each', 'sometimes', 'further', 'namely', 'before', 'along', 'under', 'everything', 'least', 'should', 'none', 'whatever', 'thereafter', 'beside', 'noone', 'whereupon', '‘ll', 'afterwards', '‘s', 'show', 'latter', 'four', 'whence', '’re', 'never', 'bottom', 'her', 'whither', 'twelve', 'sometime', 'first', 'very', 'that', 'perhaps', 'due', 'whereas', 'well', 'keep', 'neither', 'across', 'toward', 'yourself', 'it', 'anyhow', 'a', 'up', 'had', 'back', 'anyone', 'yours', 'being', 'become', 'together', 'through', 'above', 'an', 'go', 'might', 'make', 'enough', 'whenever', 'however', 'nine', \"'ll\", 'yourselves', 'nothing', 'eight', 'put', 'unless', 'whom', 'does', 'did', 'although', '‘m', 'among', 'be', 'next', 'such', 'here', 'becoming', 'empty', \"'re\", 'when', 'one', 'whether', 'were', 'ten', 'much', 'whose', 'various', 'about', 'been', 'though', 'because', 'with', 'full', \"'s\", 'few', '’ll', 'therein', 'thru', 'against', 'less', 'move', 'over', 'formerly', 'even', 'must', 'still', 'to', 'while', 'again', '’m', 'alone', 'becomes', 'always', 'front', 'call', 'beyond', 'please', 'everyone', 'own', '’s', 'than', 'fifty', 'whereby', 'out', 'yet', 'could', 'using', '’ve', 'last', 'how', 'cannot', 'for', 'get', 'twenty', 'per', 'i', \"'d\", 'himself', 'down', 'mostly', 'really', 'n’t', 'same', 'behind', 'every', 'since', 'those', 'someone', 'part', 'two', 'they', \"'ve\", 'ours', 'so', 'six', 'wherein', 'thence', 'there', 'any', 'hers', 'during', 'else', 'this', 'n‘t', 'became', \"'m\", 'upon', 'them', 'hence', 'meanwhile', 'then', 'anyway', 'elsewhere', 'too', 'fifteen', 'both', 'also', 'on', 'therefore', 'itself', 'anywhere', '‘d', 'no', 'three', 'is', 'mine', 'made', 'serious', 'rather', 'themselves', 'at', 'third', 'amount', 'whoever', 'quite', 'see', 'am', '’d', 'something', 'nevertheless', 'regarding', 'ca', 'nobody', 'seems', 'which', 'former', 'other', 'onto', 'beforehand', 'others', 'myself', 'whereafter', 'hereafter', 'thus', 'otherwise', 're', 'seeming', 'who', 'will', 'do', 'sixty', 'wherever', 'doing', 'thereby', 'many', 'ever', 'our', 'if', 'but', 'we', 'already', 'moreover', '‘re', 'towards', 'around', 'have', 'say', 'eleven', 'its', 'once', 'forty', 'herself', 'indeed', 'all', 'take', 'into', 'latterly', 'ourselves', 'he', 'within', 'the', 'by', 'until', 'done', 'herein', 'my', 'after', 'via', 'their', 'was', 'only', 'nowhere', 'amongst', 'most', 'besides', 'has', 'whole', 'hundred', 'except', 'us', 'either', 'can', 'five', 'between', 'several', 'your', '‘ve', 'may', 'top', 'what', 'his', 'almost', 'now', 'and', 'of', 'hereby', 'or', 'in', 'another', 'give', 'below', 'throughout', 'without', 'often', 'him', 'not', 'would', 'anything', 'used', 'off', 'thereupon', 'you', 'she', 'name', 'everywhere', \"n't\", 'more', 'hereupon', 'are', 'somewhere', 'where', 'side', 'these', 'somehow', 'as', 'me', 'seemed', 'some'}\n"
          ]
        }
      ]
    },
    {
      "cell_type": "code",
      "source": [
        "nlp.vocab['is'].is_stop"
      ],
      "metadata": {
        "colab": {
          "base_uri": "https://localhost:8080/"
        },
        "id": "GJngmSM4NxA3",
        "outputId": "d5594b89-4ec0-4b98-e980-14eedd508d9f"
      },
      "execution_count": 24,
      "outputs": [
        {
          "output_type": "execute_result",
          "data": {
            "text/plain": [
              "True"
            ]
          },
          "metadata": {},
          "execution_count": 24
        }
      ]
    },
    {
      "cell_type": "code",
      "source": [
        "# you can add and remove a stop word of your choice"
      ],
      "metadata": {
        "id": "-IYcZfqsRV_K"
      },
      "execution_count": 25,
      "outputs": []
    },
    {
      "cell_type": "code",
      "source": [],
      "metadata": {
        "id": "UsCmaReRSBWv"
      },
      "execution_count": null,
      "outputs": []
    }
  ]
}