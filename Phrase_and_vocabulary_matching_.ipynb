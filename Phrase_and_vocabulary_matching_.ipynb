{
  "nbformat": 4,
  "nbformat_minor": 0,
  "metadata": {
    "colab": {
      "provenance": []
    },
    "kernelspec": {
      "name": "python3",
      "display_name": "Python 3"
    },
    "language_info": {
      "name": "python"
    }
  },
  "cells": [
    {
      "cell_type": "code",
      "source": [
        "from spacy.matcher import Matcher\n",
        "matcher=Matcher(nlp.vocab)\n",
        "# solarpower\n",
        "pattern1=[{'LOWER':'solarpower'}]\n",
        "# solar-power\n",
        "pattern2=[{'LOWER':'solar'},{'IS_PUNCT':True},{'LOWER':'power'}]\n",
        "# solar power\n",
        "pattern3=[{'LOWER':'solar'},{'LOWER':'power'}]\n",
        "\n",
        "matcher.add('SolarPower',[pattern1,pattern2,pattern3])\n",
        "\n",
        "doc=nlp('the solarpower is increasing day by day as the demand of solar---power is increasing')\n",
        "\n",
        "found_matches=matcher(doc)\n",
        "found_matches"
      ],
      "metadata": {
        "colab": {
          "base_uri": "https://localhost:8080/"
        },
        "id": "FxEbzbmIST4d",
        "outputId": "8a62e451-cc10-4332-a4ff-5864257f378c"
      },
      "execution_count": 55,
      "outputs": [
        {
          "output_type": "execute_result",
          "data": {
            "text/plain": [
              "[(8656102463236116519, 1, 2), (8656102463236116519, 11, 14)]"
            ]
          },
          "metadata": {},
          "execution_count": 55
        }
      ]
    },
    {
      "cell_type": "code",
      "source": [
        "from spacy.matcher import Matcher\n",
        "matcher=Matcher(nlp.vocab)\n",
        "# solarpower\n",
        "pattern1=[{'LOWER':'solarpower'}]\n",
        "# solar-power\n",
        "pattern2=[{'LOWER':'solar'},{'IS_PUNCT':True,'OP':'*'},{'LOWER':'power'}]\n",
        "# solar power\n",
        "pattern3=[{'LOWER':'solar'},{'LOWER':'power'}]\n",
        "\n",
        "matcher.add('SolarPower',[pattern1,pattern2,pattern3])\n",
        "\n",
        "doc=nlp('the solarpower is increasing day by day as the demand of solar---power is increasing')\n",
        "\n",
        "found_matches=matcher(doc)\n",
        "found_matches"
      ],
      "metadata": {
        "colab": {
          "base_uri": "https://localhost:8080/"
        },
        "id": "oGT-76MvbFzK",
        "outputId": "f61fc0a6-47f9-458c-f28f-a4325ec239e7"
      },
      "execution_count": 56,
      "outputs": [
        {
          "output_type": "execute_result",
          "data": {
            "text/plain": [
              "[(8656102463236116519, 1, 2), (8656102463236116519, 11, 14)]"
            ]
          },
          "metadata": {},
          "execution_count": 56
        }
      ]
    },
    {
      "cell_type": "code",
      "source": [
        "from spacy.matcher import PhraseMatcher\n",
        "matcher=PhraseMatcher(nlp.vocab)"
      ],
      "metadata": {
        "id": "-CPqabx8dKjn"
      },
      "execution_count": 57,
      "outputs": []
    }
  ]
}