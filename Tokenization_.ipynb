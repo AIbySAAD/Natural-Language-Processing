{
  "nbformat": 4,
  "nbformat_minor": 0,
  "metadata": {
    "colab": {
      "provenance": []
    },
    "kernelspec": {
      "name": "python3",
      "display_name": "Python 3"
    },
    "language_info": {
      "name": "python"
    }
  },
  "cells": [
    {
      "cell_type": "code",
      "execution_count": 1,
      "metadata": {
        "colab": {
          "base_uri": "https://localhost:8080/"
        },
        "id": "i6qYLWEqK3l5",
        "outputId": "ea829f59-be4c-4a9e-9c2a-8e0d7e5e19c7"
      },
      "outputs": [
        {
          "output_type": "stream",
          "name": "stdout",
          "text": [
            "\"\n",
            "we\n",
            "/\n",
            "re\n",
            "moving\n",
            "to\n",
            "there\n"
          ]
        }
      ],
      "source": [
        "string='\"we/re moving to there'\n",
        "import spacy\n",
        "nlp=spacy.load('en_core_web_sm')\n",
        "doc3=nlp(string)\n",
        "for token in doc3:\n",
        "  print(token)"
      ]
    },
    {
      "cell_type": "code",
      "source": [
        "string='here sref@gmail.com has website www.gtr.com'\n",
        "doc2=nlp(string)\n",
        "for token in doc2:\n",
        "  print(token)"
      ],
      "metadata": {
        "colab": {
          "base_uri": "https://localhost:8080/"
        },
        "id": "kJ-W8AaVLlMU",
        "outputId": "fcfe40f5-d95a-4200-f13d-aa1753b7d95b"
      },
      "execution_count": 2,
      "outputs": [
        {
          "output_type": "stream",
          "name": "stdout",
          "text": [
            "here\n",
            "sref@gmail.com\n",
            "has\n",
            "website\n",
            "www.gtr.com\n"
          ]
        }
      ]
    },
    {
      "cell_type": "code",
      "source": [
        "doc1=nlp(u'a 5km ride in ny cost $5.00')\n",
        "for token in doc1:\n",
        "  print(token)"
      ],
      "metadata": {
        "colab": {
          "base_uri": "https://localhost:8080/"
        },
        "id": "q3piyE_YMb2U",
        "outputId": "729c3b85-e3c2-4aba-c76a-2ad5eb14a352"
      },
      "execution_count": 3,
      "outputs": [
        {
          "output_type": "stream",
          "name": "stdout",
          "text": [
            "a\n",
            "5\n",
            "km\n",
            "ride\n",
            "in\n",
            "ny\n",
            "cost\n",
            "$\n",
            "5.00\n"
          ]
        }
      ]
    },
    {
      "cell_type": "code",
      "source": [
        "len(doc1.vocab)"
      ],
      "metadata": {
        "colab": {
          "base_uri": "https://localhost:8080/"
        },
        "id": "p1OfSqCvNVAL",
        "outputId": "001fa65f-2bed-4bc0-e333-01add33470ba"
      },
      "execution_count": 4,
      "outputs": [
        {
          "output_type": "execute_result",
          "data": {
            "text/plain": [
              "777"
            ]
          },
          "metadata": {},
          "execution_count": 4
        }
      ]
    },
    {
      "cell_type": "code",
      "source": [
        "len(doc2.vocab)"
      ],
      "metadata": {
        "colab": {
          "base_uri": "https://localhost:8080/"
        },
        "id": "fOQK2KklObpq",
        "outputId": "0a008e78-2464-4d02-cc53-9d4426bd8f5d"
      },
      "execution_count": 5,
      "outputs": [
        {
          "output_type": "execute_result",
          "data": {
            "text/plain": [
              "777"
            ]
          },
          "metadata": {},
          "execution_count": 5
        }
      ]
    },
    {
      "cell_type": "code",
      "source": [
        "len(doc3.vocab)"
      ],
      "metadata": {
        "colab": {
          "base_uri": "https://localhost:8080/"
        },
        "id": "HoTr_YRPO5XM",
        "outputId": "99a1b9e3-7dfe-4fd3-e347-52fb61f8f5d6"
      },
      "execution_count": 6,
      "outputs": [
        {
          "output_type": "execute_result",
          "data": {
            "text/plain": [
              "777"
            ]
          },
          "metadata": {},
          "execution_count": 6
        }
      ]
    },
    {
      "cell_type": "code",
      "source": [
        "string='i am going to be the'\n",
        "doc2=nlp(string)\n",
        "for token in doc2:\n",
        "  print(token.text,end='|')"
      ],
      "metadata": {
        "colab": {
          "base_uri": "https://localhost:8080/"
        },
        "id": "ost2NqvVO803",
        "outputId": "e256d915-4e42-44cd-9dd4-ceb49a3ccbe4"
      },
      "execution_count": 7,
      "outputs": [
        {
          "output_type": "stream",
          "name": "stdout",
          "text": [
            "i|am|going|to|be|the|"
          ]
        }
      ]
    },
    {
      "cell_type": "code",
      "source": [
        "string='apple is going to give $6 millions'\n",
        "doc2=nlp(string)\n",
        "for entity in doc2.ents:\n",
        "  print(entity)\n",
        "  print(entity.label_)"
      ],
      "metadata": {
        "colab": {
          "base_uri": "https://localhost:8080/"
        },
        "id": "9t3hK869PicC",
        "outputId": "e1fb7d0d-cc8a-48df-ef6f-b9f540be2ab1"
      },
      "execution_count": 8,
      "outputs": [
        {
          "output_type": "stream",
          "name": "stdout",
          "text": [
            "apple\n",
            "ORG\n",
            "$6 millions\n",
            "MONEY\n"
          ]
        }
      ]
    },
    {
      "cell_type": "code",
      "source": [
        "string='apple is going to give $6 millions'\n",
        "doc2=nlp(string)\n",
        "for chunk in doc2.noun_chunks:\n",
        "  print(chunk)"
      ],
      "metadata": {
        "colab": {
          "base_uri": "https://localhost:8080/"
        },
        "id": "Oi9cAnvwP5ZS",
        "outputId": "7afd9c14-c614-4eff-abb8-1d46fc21400f"
      },
      "execution_count": 9,
      "outputs": [
        {
          "output_type": "stream",
          "name": "stdout",
          "text": [
            "apple\n",
            "$6 millions\n"
          ]
        }
      ]
    },
    {
      "cell_type": "code",
      "source": [
        "import spacy\n",
        "\n",
        "# Load the spaCy model\n",
        "nlp = spacy.load(\"en_core_web_sm\")\n",
        "\n",
        "# Define the string\n",
        "string = 'apple is going to give $6 millions'\n",
        "\n",
        "# Process the text\n",
        "doc2 = nlp(string)\n",
        "\n",
        "# Iterate over noun chunks and print them\n",
        "for chunk in doc2.noun_chunks:\n",
        "    print(chunk.text)\n"
      ],
      "metadata": {
        "colab": {
          "base_uri": "https://localhost:8080/"
        },
        "id": "VocE2Y9rRBQg",
        "outputId": "3dc92267-6d4d-4ab0-cfa5-6f076cdb7517"
      },
      "execution_count": 10,
      "outputs": [
        {
          "output_type": "stream",
          "name": "stdout",
          "text": [
            "apple\n",
            "$6 millions\n"
          ]
        }
      ]
    },
    {
      "cell_type": "code",
      "source": [
        "from spacy import displacy\n",
        "\n",
        "# Load the spaCy model\n",
        "nlp = spacy.load(\"en_core_web_sm\")\n",
        "\n",
        "# Define the string\n",
        "string = 'apple is going to give $6 millions'\n",
        "\n",
        "# Process the text\n",
        "doc2 = nlp(string)\n",
        "\n",
        "# Iterate over noun chunks and print them\n",
        "displacy.render(doc2,style='ent',jupyter=True)"
      ],
      "metadata": {
        "id": "Hc0NmS0GRYxd",
        "colab": {
          "base_uri": "https://localhost:8080/",
          "height": 52
        },
        "outputId": "2a17e9b8-ff01-47fc-bb48-bc7a3fe326de"
      },
      "execution_count": 12,
      "outputs": [
        {
          "output_type": "display_data",
          "data": {
            "text/plain": [
              "<IPython.core.display.HTML object>"
            ],
            "text/html": [
              "<span class=\"tex2jax_ignore\"><div class=\"entities\" style=\"line-height: 2.5; direction: ltr\">\n",
              "<mark class=\"entity\" style=\"background: #7aecec; padding: 0.45em 0.6em; margin: 0 0.25em; line-height: 1; border-radius: 0.35em;\">\n",
              "    apple\n",
              "    <span style=\"font-size: 0.8em; font-weight: bold; line-height: 1; border-radius: 0.35em; vertical-align: middle; margin-left: 0.5rem\">ORG</span>\n",
              "</mark>\n",
              " is going to give \n",
              "<mark class=\"entity\" style=\"background: #e4e7d2; padding: 0.45em 0.6em; margin: 0 0.25em; line-height: 1; border-radius: 0.35em;\">\n",
              "    $6 millions\n",
              "    <span style=\"font-size: 0.8em; font-weight: bold; line-height: 1; border-radius: 0.35em; vertical-align: middle; margin-left: 0.5rem\">MONEY</span>\n",
              "</mark>\n",
              "</div></span>"
            ]
          },
          "metadata": {}
        }
      ]
    },
    {
      "cell_type": "code",
      "source": [],
      "metadata": {
        "id": "tOzTwiefDtVR"
      },
      "execution_count": null,
      "outputs": []
    }
  ]
}