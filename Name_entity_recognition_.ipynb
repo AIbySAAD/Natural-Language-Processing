{
  "nbformat": 4,
  "nbformat_minor": 0,
  "metadata": {
    "colab": {
      "provenance": []
    },
    "kernelspec": {
      "name": "python3",
      "display_name": "Python 3"
    },
    "language_info": {
      "name": "python"
    }
  },
  "cells": [
    {
      "cell_type": "code",
      "execution_count": 8,
      "metadata": {
        "colab": {
          "base_uri": "https://localhost:8080/"
        },
        "id": "dT8viVFvssKl",
        "outputId": "4bc9e057-0961-4003-8800-4e6a81327390"
      },
      "outputs": [
        {
          "output_type": "stream",
          "name": "stdout",
          "text": [
            "pakistan - GPE - Countries, cities, states\n"
          ]
        }
      ],
      "source": [
        "import spacy\n",
        "nlp=spacy.load('en_core_web_sm')\n",
        "def show_ents(doc):\n",
        "  if doc.ents:\n",
        "    for ent in doc.ents:\n",
        "      print(ent.text + ' - ' + ent.label_+' - '+ str(spacy.explain(ent.label_)))\n",
        "  else:\n",
        "    print('No entity found!')\n",
        "doc=nlp('Hi im going to pakistan, next may to see the monument')\n",
        "show_ents(doc)"
      ]
    },
    {
      "cell_type": "code",
      "source": [
        "doc=nlp('i have 500 share of microsoft')\n",
        "show_ents(doc)"
      ],
      "metadata": {
        "colab": {
          "base_uri": "https://localhost:8080/"
        },
        "id": "AowTJIA3ttcH",
        "outputId": "d954a63b-cec0-40a9-cec9-6f28e02dbe5a"
      },
      "execution_count": 9,
      "outputs": [
        {
          "output_type": "stream",
          "name": "stdout",
          "text": [
            "500 - CARDINAL - Numerals that do not fall under another type\n",
            "microsoft - ORG - Companies, agencies, institutions, etc.\n"
          ]
        }
      ]
    },
    {
      "cell_type": "code",
      "source": [
        "doc=nlp('tesla to built a factory in china')\n",
        "show_ents(doc)"
      ],
      "metadata": {
        "colab": {
          "base_uri": "https://localhost:8080/"
        },
        "id": "f-LvmJ0Su8E4",
        "outputId": "73d0dfed-2d1a-4dfd-f720-8e5a480c7e34"
      },
      "execution_count": 10,
      "outputs": [
        {
          "output_type": "stream",
          "name": "stdout",
          "text": [
            "china - GPE - Countries, cities, states\n"
          ]
        }
      ]
    },
    {
      "cell_type": "code",
      "source": [
        "from spacy.tokens import Span\n",
        "ORG=doc.vocab.strings['ORG']\n",
        "ORG"
      ],
      "metadata": {
        "colab": {
          "base_uri": "https://localhost:8080/"
        },
        "id": "IQONdXPYvK63",
        "outputId": "fef456ca-4a36-4dfd-c222-12ea518598e8"
      },
      "execution_count": 11,
      "outputs": [
        {
          "output_type": "execute_result",
          "data": {
            "text/plain": [
              "383"
            ]
          },
          "metadata": {},
          "execution_count": 11
        }
      ]
    },
    {
      "cell_type": "code",
      "source": [
        "new_ent=Span(doc,0,1,label=ORG)"
      ],
      "metadata": {
        "id": "zDwUVfY2vbwe"
      },
      "execution_count": 13,
      "outputs": []
    },
    {
      "cell_type": "code",
      "source": [
        "doc.ents=list(doc.ents)+[new_ent]"
      ],
      "metadata": {
        "id": "25IDUn2evuBS"
      },
      "execution_count": 14,
      "outputs": []
    },
    {
      "cell_type": "code",
      "source": [
        "show_ents(doc)"
      ],
      "metadata": {
        "colab": {
          "base_uri": "https://localhost:8080/"
        },
        "id": "848HMwlNv_kp",
        "outputId": "2df4ca35-e16b-4742-c62c-ea2ed3cca331"
      },
      "execution_count": 15,
      "outputs": [
        {
          "output_type": "stream",
          "name": "stdout",
          "text": [
            "tesla - ORG - Companies, agencies, institutions, etc.\n",
            "china - GPE - Countries, cities, states\n"
          ]
        }
      ]
    },
    {
      "cell_type": "code",
      "source": [
        "# add multiple entities\n",
        "\n",
        "doc=nlp('Our company made vaccum cleaner' ' these vaccum-cleaner are best')\n",
        "show_ents(doc)"
      ],
      "metadata": {
        "colab": {
          "base_uri": "https://localhost:8080/"
        },
        "id": "kHI3ADo40StL",
        "outputId": "54681808-b019-4ed7-e317-0a60413e9fa7"
      },
      "execution_count": 31,
      "outputs": [
        {
          "output_type": "stream",
          "name": "stdout",
          "text": [
            "No entity found!\n"
          ]
        }
      ]
    },
    {
      "cell_type": "code",
      "source": [
        "# no entity here so\n",
        "from spacy.matcher import PhraseMatcher\n",
        "matcher=PhraseMatcher(nlp.vocab)\n",
        "phrase_list=['vaccum cleaner','vaccum-cleaner']\n",
        "phrase_patterns=[nlp(text) for text in phrase_list]\n",
        "matcher.add('newproduct',None,*phrase_patterns)\n",
        "found_matches=matcher(doc)\n",
        "found_matches"
      ],
      "metadata": {
        "colab": {
          "base_uri": "https://localhost:8080/"
        },
        "id": "rnvwIgfC1DwK",
        "outputId": "24f46209-76c7-4824-cf6c-e3c46c8d2715"
      },
      "execution_count": 32,
      "outputs": [
        {
          "output_type": "execute_result",
          "data": {
            "text/plain": [
              "[(2689272359382549672, 3, 5), (2689272359382549672, 6, 9)]"
            ]
          },
          "metadata": {},
          "execution_count": 32
        }
      ]
    },
    {
      "cell_type": "code",
      "source": [
        "from spacy.tokens import Span\n",
        "prod=doc.vocab.strings['PRODUCT']\n",
        "new_ent=[Span(doc,match[1],match[2],label=prod) for match in found_matches]\n",
        "doc.ents=list(doc.ents)+new_ent\n",
        "show_ents(doc)"
      ],
      "metadata": {
        "colab": {
          "base_uri": "https://localhost:8080/"
        },
        "id": "Qzobuhqj2PpU",
        "outputId": "725bfc03-f3c8-49c7-9a2e-969970a6fae4"
      },
      "execution_count": 33,
      "outputs": [
        {
          "output_type": "stream",
          "name": "stdout",
          "text": [
            "vaccum cleaner - PRODUCT - Objects, vehicles, foods, etc. (not services)\n",
            "vaccum-cleaner - PRODUCT - Objects, vehicles, foods, etc. (not services)\n"
          ]
        }
      ]
    },
    {
      "cell_type": "code",
      "source": [
        "from spacy import displacy\n",
        "doc=nlp('hello i have $6')\n",
        "displacy.render(doc,style='ent',jupyter=True)"
      ],
      "metadata": {
        "colab": {
          "base_uri": "https://localhost:8080/",
          "height": 52
        },
        "id": "2J6WnJl73wbF",
        "outputId": "1265e653-b3b7-47ce-a32c-f1dadd0dbdfe"
      },
      "execution_count": 35,
      "outputs": [
        {
          "output_type": "display_data",
          "data": {
            "text/plain": [
              "<IPython.core.display.HTML object>"
            ],
            "text/html": [
              "<span class=\"tex2jax_ignore\"><div class=\"entities\" style=\"line-height: 2.5; direction: ltr\">hello i have $\n",
              "<mark class=\"entity\" style=\"background: #e4e7d2; padding: 0.45em 0.6em; margin: 0 0.25em; line-height: 1; border-radius: 0.35em;\">\n",
              "    6\n",
              "    <span style=\"font-size: 0.8em; font-weight: bold; line-height: 1; border-radius: 0.35em; vertical-align: middle; margin-left: 0.5rem\">MONEY</span>\n",
              "</mark>\n",
              "</div></span>"
            ]
          },
          "metadata": {}
        }
      ]
    },
    {
      "cell_type": "code",
      "source": [
        "# we can only highlight the options"
      ],
      "metadata": {
        "id": "M2VvISeL7Bih"
      },
      "execution_count": 36,
      "outputs": []
    }
  ]
}