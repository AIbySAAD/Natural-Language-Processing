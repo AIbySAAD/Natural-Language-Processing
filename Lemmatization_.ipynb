{
  "nbformat": 4,
  "nbformat_minor": 0,
  "metadata": {
    "colab": {
      "provenance": []
    },
    "kernelspec": {
      "name": "python3",
      "display_name": "Python 3"
    },
    "language_info": {
      "name": "python"
    }
  },
  "cells": [
    {
      "cell_type": "code",
      "source": [
        "import spacy\n",
        "nlp=spacy.load('en_core_web_sm')\n",
        "doc=nlp('i want to run because i am a runner as i ran today')\n",
        "for token in doc:\n",
        "  print(token.text,'\\t',token.pos_,'\\t',token.lemma,'\\t',token.lemma_)"
      ],
      "metadata": {
        "colab": {
          "base_uri": "https://localhost:8080/"
        },
        "id": "1XPOdja4K_I1",
        "outputId": "94c1bef7-bb39-47c3-b059-d926b5ff0682"
      },
      "execution_count": 21,
      "outputs": [
        {
          "output_type": "stream",
          "name": "stdout",
          "text": [
            "i \t PRON \t 4690420944186131903 \t I\n",
            "want \t VERB \t 7597692042947428029 \t want\n",
            "to \t PART \t 3791531372978436496 \t to\n",
            "run \t VERB \t 12767647472892411841 \t run\n",
            "because \t SCONJ \t 16950148841647037698 \t because\n",
            "i \t PRON \t 4690420944186131903 \t I\n",
            "am \t AUX \t 10382539506755952630 \t be\n",
            "a \t DET \t 11901859001352538922 \t a\n",
            "runner \t NOUN \t 12640964157389618806 \t runner\n",
            "as \t SCONJ \t 7437575085468336610 \t as\n",
            "i \t PRON \t 4690420944186131903 \t I\n",
            "ran \t VERB \t 12767647472892411841 \t run\n",
            "today \t NOUN \t 11042482332948150395 \t today\n"
          ]
        }
      ]
    },
    {
      "cell_type": "code",
      "source": [],
      "metadata": {
        "id": "GJngmSM4NxA3"
      },
      "execution_count": null,
      "outputs": []
    }
  ]
}