{
  "nbformat": 4,
  "nbformat_minor": 0,
  "metadata": {
    "colab": {
      "provenance": []
    },
    "kernelspec": {
      "name": "python3",
      "display_name": "Python 3"
    },
    "language_info": {
      "name": "python"
    }
  },
  "cells": [
    {
      "cell_type": "code",
      "source": [
        "!pip install keras"
      ],
      "metadata": {
        "colab": {
          "base_uri": "https://localhost:8080/"
        },
        "id": "HSVdmRVdt2mo",
        "outputId": "f68bc1bd-4db9-4455-c1e1-934ff36e7904"
      },
      "execution_count": 3,
      "outputs": [
        {
          "output_type": "stream",
          "name": "stdout",
          "text": [
            "Requirement already satisfied: keras in /usr/local/lib/python3.10/dist-packages (2.15.0)\n"
          ]
        }
      ]
    },
    {
      "cell_type": "code",
      "source": [
        "from keras import Sequential\n",
        "from keras.layers import Dense,SimpleRNN"
      ],
      "metadata": {
        "id": "dB-qw-sZBTaF"
      },
      "execution_count": 4,
      "outputs": []
    },
    {
      "cell_type": "code",
      "source": [
        "model=Sequential()\n",
        "model.add(SimpleRNN(3,input_shape=(4,5))) # Hidden layer 4 time steps and 5 features\n",
        "model.add(Dense(1,activation='sigmoid')) # output layer with sigmoid activation function"
      ],
      "metadata": {
        "id": "1Ck3MEtetxto"
      },
      "execution_count": 5,
      "outputs": []
    },
    {
      "cell_type": "code",
      "source": [
        "model.summary()"
      ],
      "metadata": {
        "colab": {
          "base_uri": "https://localhost:8080/"
        },
        "id": "0EaooiD0uqFU",
        "outputId": "5506c9e3-e600-414c-8821-d15a2983dc08"
      },
      "execution_count": 6,
      "outputs": [
        {
          "output_type": "stream",
          "name": "stdout",
          "text": [
            "Model: \"sequential\"\n",
            "_________________________________________________________________\n",
            " Layer (type)                Output Shape              Param #   \n",
            "=================================================================\n",
            " simple_rnn (SimpleRNN)      (None, 3)                 27        \n",
            "                                                                 \n",
            " dense (Dense)               (None, 1)                 4         \n",
            "                                                                 \n",
            "=================================================================\n",
            "Total params: 31 (124.00 Byte)\n",
            "Trainable params: 31 (124.00 Byte)\n",
            "Non-trainable params: 0 (0.00 Byte)\n",
            "_________________________________________________________________\n"
          ]
        }
      ]
    },
    {
      "cell_type": "code",
      "source": [
        "model.get_weights()"
      ],
      "metadata": {
        "colab": {
          "base_uri": "https://localhost:8080/"
        },
        "id": "RIjyqVRxuso8",
        "outputId": "bef23669-2cf4-4b91-f8eb-10a5835b3486"
      },
      "execution_count": 8,
      "outputs": [
        {
          "output_type": "execute_result",
          "data": {
            "text/plain": [
              "[array([[-0.23994327,  0.31525642, -0.14925218],\n",
              "        [ 0.44024247, -0.5545471 ,  0.7157249 ],\n",
              "        [ 0.7292134 , -0.6498525 ,  0.6987775 ],\n",
              "        [ 0.8285249 ,  0.60273534, -0.45738456],\n",
              "        [ 0.08246177, -0.07360142,  0.63392323]], dtype=float32),\n",
              " array([[-0.8331386 , -0.5225758 ,  0.18109322],\n",
              "        [-0.14911321, -0.10306889, -0.9834339 ],\n",
              "        [ 0.5325837 , -0.84634006,  0.00794756]], dtype=float32),\n",
              " array([0., 0., 0.], dtype=float32),\n",
              " array([[-0.98777103],\n",
              "        [-0.2632891 ],\n",
              "        [-0.38270974]], dtype=float32),\n",
              " array([0.], dtype=float32)]"
            ]
          },
          "metadata": {},
          "execution_count": 8
        }
      ]
    },
    {
      "cell_type": "code",
      "source": [],
      "metadata": {
        "id": "KdJISlcWvJa4"
      },
      "execution_count": null,
      "outputs": []
    }
  ]
}